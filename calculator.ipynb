{
 "cells": [
  {
   "cell_type": "code",
   "execution_count": 1,
   "metadata": {},
   "outputs": [
    {
     "name": "stdout",
     "output_type": "stream",
     "text": [
      "enter 1st number:> 7\n",
      "enter any opeartor,+ -,*,/+\n",
      "enter 1st number:> 7\n",
      "sum of  7  &  7  is  14\n"
     ]
    }
   ],
   "source": [
    "number_1 = int(input(\"enter 1st number:> \"))\n",
    "operator = input(\"enter any opeartor,+ -,*,/\")\n",
    "number_2 = int(input(\"enter 1st number:> \"))\n",
    "\n",
    "if operator == \"+\":\n",
    "    result = number_1 + number_2\n",
    "    print(\"sum of \",number_1,\" & \",number_2, \" is \",result)\n",
    "elif operator == \"-\":\n",
    "    result = number_1 - number_2\n",
    "    print(\"subraction of \",number_1,\" & \",number_2, \" is \",result)\n",
    "elif operator == \"*\":\n",
    "    result = number_1 * number_2\n",
    "    print(\"multiplicatin of \",number_1,\" & \",number_2, \" is \",result)\n",
    "elif operator == \"/\":\n",
    "    result = number_1 / number_2\n",
    "    print(\"division of \",number_1,\" & \",number_2, \" is \",result)\n",
    "else:\n",
    "    print(\"worng opeartor\")"
   ]
  },
  {
   "cell_type": "code",
   "execution_count": 1,
   "metadata": {},
   "outputs": [
    {
     "data": {
      "text/plain": [
       "1"
      ]
     },
     "execution_count": 1,
     "metadata": {},
     "output_type": "execute_result"
    }
   ],
   "source": []
  },
  {
   "cell_type": "code",
   "execution_count": null,
   "metadata": {},
   "outputs": [],
   "source": []
  }
 ],
 "metadata": {
  "kernelspec": {
   "display_name": "Python 3",
   "language": "python",
   "name": "python3"
  },
  "language_info": {
   "codemirror_mode": {
    "name": "ipython",
    "version": 3
   },
   "file_extension": ".py",
   "mimetype": "text/x-python",
   "name": "python",
   "nbconvert_exporter": "python",
   "pygments_lexer": "ipython3",
   "version": "3.7.3"
  }
 },
 "nbformat": 4,
 "nbformat_minor": 2
}
